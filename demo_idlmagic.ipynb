{
 "metadata": {
  "name": ""
 },
 "nbformat": 3,
 "nbformat_minor": 0,
 "worksheets": [
  {
   "cells": [
    {
     "cell_type": "heading",
     "level": 2,
     "metadata": {},
     "source": [
      "Installation"
     ]
    },
    {
     "cell_type": "markdown",
     "metadata": {},
     "source": [
      "To begin, we install [pIDLy](https://github.com/anthonyjsmith/pIDLy):\n",
      "    \n",
      "    pip install pidly\n",
      "    \n",
      "Then we install idlmagic:"
     ]
    },
    {
     "cell_type": "code",
     "collapsed": false,
     "input": [
      "%install_ext https://raw.github.com/ebellm/ipython-idlmagic/master/idlmagic.py"
     ],
     "language": "python",
     "metadata": {},
     "outputs": []
    },
    {
     "cell_type": "heading",
     "level": 2,
     "metadata": {},
     "source": [
      "Usage"
     ]
    },
    {
     "cell_type": "markdown",
     "metadata": {},
     "source": [
      "When starting a new notebook, we load the magic:"
     ]
    },
    {
     "cell_type": "code",
     "collapsed": false,
     "input": [
      "%load_ext idlmagic"
     ],
     "language": "python",
     "metadata": {},
     "outputs": [
      {
       "output_type": "stream",
       "stream": "stdout",
       "text": [
        "IDL not found, using GDL\n"
       ]
      }
     ],
     "prompt_number": 1
    },
    {
     "cell_type": "markdown",
     "metadata": {},
     "source": [
      "(I am using [GDL](http://gnudatalanguage.sourceforge.net/) rather than IDL on this computer.  `idlmagic` will first look for the `idl` interpreter on the search path and and fall back to `gdl` if needed.)"
     ]
    },
    {
     "cell_type": "heading",
     "level": 3,
     "metadata": {},
     "source": [
      "Line magics"
     ]
    },
    {
     "cell_type": "markdown",
     "metadata": {},
     "source": [
      "The `%idl` magic enables one-line execution of IDL commands in the IPython interpreter or notebook:"
     ]
    },
    {
     "cell_type": "code",
     "collapsed": false,
     "input": [
      "%idl print, findgen(5)"
     ],
     "language": "python",
     "metadata": {},
     "outputs": [
      {
       "metadata": {},
       "output_type": "display_data",
       "text": [
        "      0.00000      1.00000      2.00000      3.00000      4.00000"
       ]
      }
     ],
     "prompt_number": 2
    },
    {
     "cell_type": "heading",
     "level": 3,
     "metadata": {},
     "source": [
      "Cell magics"
     ]
    },
    {
     "cell_type": "markdown",
     "metadata": {},
     "source": [
      "Multi-line input can be entered with the `%%idl` cell magic:"
     ]
    },
    {
     "cell_type": "code",
     "collapsed": false,
     "input": [
      "%%idl\n",
      "x = findgen(5)\n",
      "y = x^2.\n",
      "; comments are supported\n",
      "print, $ ; as are line continuations\n",
      "mean(y)"
     ],
     "language": "python",
     "metadata": {},
     "outputs": [
      {
       "metadata": {},
       "output_type": "display_data",
       "text": [
        "% Compiled module: MEAN.\n",
        "      6.00000"
       ]
      }
     ],
     "prompt_number": 3
    },
    {
     "cell_type": "heading",
     "level": 3,
     "metadata": {},
     "source": [
      "Passing variables between Python and IDL"
     ]
    },
    {
     "cell_type": "markdown",
     "metadata": {},
     "source": [
      "The mechanisms for passing variables to and from IDL are based on those in the built-in `%R` and `%octave` magics.\n",
      "\n",
      "Variables may be pushed from Python into IDL with `%idl_push`:"
     ]
    },
    {
     "cell_type": "code",
     "collapsed": false,
     "input": [
      "msg = '  padded   string   '\n",
      "import numpy as np\n",
      "arr = np.arange(5)"
     ],
     "language": "python",
     "metadata": {},
     "outputs": [],
     "prompt_number": 4
    },
    {
     "cell_type": "code",
     "collapsed": false,
     "input": [
      "%idl_push msg arr"
     ],
     "language": "python",
     "metadata": {},
     "outputs": [],
     "prompt_number": 5
    },
    {
     "cell_type": "code",
     "collapsed": false,
     "input": [
      "%%idl\n",
      "print, strcompress(msg,/REMOVE_ALL)\n",
      "print, reverse(arr)"
     ],
     "language": "python",
     "metadata": {},
     "outputs": [
      {
       "metadata": {},
       "output_type": "display_data",
       "text": [
        "paddedstring\n",
        "                     4                     3                     2\n",
        "                     1                     0"
       ]
      }
     ],
     "prompt_number": 6
    },
    {
     "cell_type": "markdown",
     "metadata": {},
     "source": [
      "Similarly, variables can be pulled from IDL back to Python with `%idl_pull`:"
     ]
    },
    {
     "cell_type": "code",
     "collapsed": false,
     "input": [
      "%idl arr += 1"
     ],
     "language": "python",
     "metadata": {},
     "outputs": [],
     "prompt_number": 7
    },
    {
     "cell_type": "code",
     "collapsed": false,
     "input": [
      "%idl_pull arr"
     ],
     "language": "python",
     "metadata": {},
     "outputs": [],
     "prompt_number": 8
    },
    {
     "cell_type": "code",
     "collapsed": false,
     "input": [
      "arr"
     ],
     "language": "python",
     "metadata": {},
     "outputs": [
      {
       "metadata": {},
       "output_type": "pyout",
       "prompt_number": 9,
       "text": [
        "array([1, 2, 3, 4, 5])"
       ]
      }
     ],
     "prompt_number": 9
    },
    {
     "cell_type": "markdown",
     "metadata": {},
     "source": [
      "Variables can also be pushed and pulled from IDL inline using the `-i` (or ``--input``) and `-o` (or `--output`) flags:"
     ]
    },
    {
     "cell_type": "code",
     "collapsed": false,
     "input": [
      "Z = np.array([1, 4, 5, 10])"
     ],
     "language": "python",
     "metadata": {},
     "outputs": [],
     "prompt_number": 10
    },
    {
     "cell_type": "code",
     "collapsed": false,
     "input": [
      "%idl -i Z -o W W = sqrt(Z)"
     ],
     "language": "python",
     "metadata": {},
     "outputs": [],
     "prompt_number": 11
    },
    {
     "cell_type": "code",
     "collapsed": false,
     "input": [
      "W"
     ],
     "language": "python",
     "metadata": {},
     "outputs": [
      {
       "metadata": {},
       "output_type": "pyout",
       "prompt_number": 12,
       "text": [
        "array([ 0.99999994,  1.99999988,  2.23606801,  3.1622777 ], dtype=float32)"
       ]
      }
     ],
     "prompt_number": 12
    },
    {
     "cell_type": "heading",
     "level": 3,
     "metadata": {},
     "source": [
      "Plotting"
     ]
    },
    {
     "cell_type": "markdown",
     "metadata": {},
     "source": [
      "Inline plots are displayed automatically by the IPython notebook.  IDL Direct graphics are used.  The optional `-s width,height` argument (or `--size`; default: `600,375`) specifies the size of the resulting png image."
     ]
    },
    {
     "cell_type": "code",
     "collapsed": false,
     "input": [
      "%%idl -s 400,400\n",
      "plot,findgen(10),xtitle='X',ytitle='Y'"
     ],
     "language": "python",
     "metadata": {},
     "outputs": [
      {
       "metadata": {},
       "output_type": "display_data",
       "text": [
        "% Compiled module: WRITE_PNG."
       ]
      },
      {
       "metadata": {},
       "output_type": "display_data",
       "png": "[encoded data removed]"
      }
     ],
     "prompt_number": 13
    },
    {
     "cell_type": "heading",
     "level": 2,
     "metadata": {},
     "source": [
      "Known issues and limitations"
     ]
    },
    {
     "cell_type": "markdown",
     "metadata": {},
     "source": [
      "* Only one plot can be rendered per cell\n",
      "* Processing for possibly unused plot output slows execution\n",
      "* Scalar variables from IDL may be returned as single-element Numpy arrays\n",
      "* The `%idl` line magic fails with `TypeError: coercing to Unicode: need string or buffer, dict found` in  IPython 0.13.2 and below due to a [known bug](http://stackoverflow.com/questions/14574434/unicode-error-with-ipython-rmagic-r-seems-to-work-but-not-r-fully); IPython 1.0 and later should work as expected."
     ]
    }
   ],
   "metadata": {}
  }
 ]
}